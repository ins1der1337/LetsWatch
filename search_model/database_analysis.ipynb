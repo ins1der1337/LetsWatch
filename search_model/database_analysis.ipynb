{
 "cells": [
  {
   "cell_type": "markdown",
   "metadata": {},
   "source": [
    "## Предобработка и анализ данных"
   ]
  },
  {
   "cell_type": "code",
   "execution_count": 11,
   "metadata": {},
   "outputs": [],
   "source": [
    "import pandas as pd \n",
    "import numpy as np "
   ]
  },
  {
   "cell_type": "code",
   "execution_count": 24,
   "metadata": {},
   "outputs": [
    {
     "data": {
      "text/html": [
       "<div>\n",
       "<style scoped>\n",
       "    .dataframe tbody tr th:only-of-type {\n",
       "        vertical-align: middle;\n",
       "    }\n",
       "\n",
       "    .dataframe tbody tr th {\n",
       "        vertical-align: top;\n",
       "    }\n",
       "\n",
       "    .dataframe thead th {\n",
       "        text-align: right;\n",
       "    }\n",
       "</style>\n",
       "<table border=\"1\" class=\"dataframe\">\n",
       "  <thead>\n",
       "    <tr style=\"text-align: right;\">\n",
       "      <th></th>\n",
       "      <th>movieId</th>\n",
       "      <th>title</th>\n",
       "      <th>genres</th>\n",
       "      <th>year</th>\n",
       "      <th>tmdbId</th>\n",
       "      <th>poster_url</th>\n",
       "      <th>director</th>\n",
       "      <th>actors</th>\n",
       "    </tr>\n",
       "  </thead>\n",
       "  <tbody>\n",
       "    <tr>\n",
       "      <th>0</th>\n",
       "      <td>1</td>\n",
       "      <td>Toy Story</td>\n",
       "      <td>['Adventure', 'Animation', 'Children', 'Comedy...</td>\n",
       "      <td>1995.0</td>\n",
       "      <td>862.0</td>\n",
       "      <td>https://image.tmdb.org/t/p/w500/gRLk7XpdRyNa69...</td>\n",
       "      <td>John Lasseter</td>\n",
       "      <td>Tom Hanks, Tim Allen, Don Rickles, Jim Varney,...</td>\n",
       "    </tr>\n",
       "    <tr>\n",
       "      <th>1</th>\n",
       "      <td>2</td>\n",
       "      <td>Jumanji</td>\n",
       "      <td>['Adventure', 'Children', 'Fantasy']</td>\n",
       "      <td>1995.0</td>\n",
       "      <td>8844.0</td>\n",
       "      <td>https://image.tmdb.org/t/p/w500/s5jCx2gd29X8Jy...</td>\n",
       "      <td>Joe Johnston</td>\n",
       "      <td>Robin Williams, Kirsten Dunst, Bradley Pierce,...</td>\n",
       "    </tr>\n",
       "    <tr>\n",
       "      <th>2</th>\n",
       "      <td>3</td>\n",
       "      <td>Grumpier Old Men</td>\n",
       "      <td>['Comedy', 'Romance']</td>\n",
       "      <td>1995.0</td>\n",
       "      <td>15602.0</td>\n",
       "      <td>https://image.tmdb.org/t/p/w500/y8ZzThQTjdx9Q1...</td>\n",
       "      <td>Howard Deutch</td>\n",
       "      <td>Walter Matthau, Jack Lemmon, Ann-Margret, Soph...</td>\n",
       "    </tr>\n",
       "    <tr>\n",
       "      <th>3</th>\n",
       "      <td>4</td>\n",
       "      <td>Waiting to Exhale</td>\n",
       "      <td>['Comedy', 'Drama', 'Romance']</td>\n",
       "      <td>1995.0</td>\n",
       "      <td>31357.0</td>\n",
       "      <td>https://image.tmdb.org/t/p/w500/qJU6rfil5xLVb5...</td>\n",
       "      <td>Forest Whitaker</td>\n",
       "      <td>Whitney Houston, Angela Bassett, Loretta Devin...</td>\n",
       "    </tr>\n",
       "    <tr>\n",
       "      <th>4</th>\n",
       "      <td>5</td>\n",
       "      <td>Father of the Bride Part II</td>\n",
       "      <td>['Comedy']</td>\n",
       "      <td>1995.0</td>\n",
       "      <td>11862.0</td>\n",
       "      <td>https://image.tmdb.org/t/p/w500/95RHs76vX7NSyI...</td>\n",
       "      <td>Charles Shyer</td>\n",
       "      <td>Steve Martin, Diane Keaton, Martin Short, Kimb...</td>\n",
       "    </tr>\n",
       "  </tbody>\n",
       "</table>\n",
       "</div>"
      ],
      "text/plain": [
       "   movieId                        title  \\\n",
       "0        1                    Toy Story   \n",
       "1        2                      Jumanji   \n",
       "2        3             Grumpier Old Men   \n",
       "3        4            Waiting to Exhale   \n",
       "4        5  Father of the Bride Part II   \n",
       "\n",
       "                                              genres    year   tmdbId  \\\n",
       "0  ['Adventure', 'Animation', 'Children', 'Comedy...  1995.0    862.0   \n",
       "1               ['Adventure', 'Children', 'Fantasy']  1995.0   8844.0   \n",
       "2                              ['Comedy', 'Romance']  1995.0  15602.0   \n",
       "3                     ['Comedy', 'Drama', 'Romance']  1995.0  31357.0   \n",
       "4                                         ['Comedy']  1995.0  11862.0   \n",
       "\n",
       "                                          poster_url         director  \\\n",
       "0  https://image.tmdb.org/t/p/w500/gRLk7XpdRyNa69...    John Lasseter   \n",
       "1  https://image.tmdb.org/t/p/w500/s5jCx2gd29X8Jy...     Joe Johnston   \n",
       "2  https://image.tmdb.org/t/p/w500/y8ZzThQTjdx9Q1...    Howard Deutch   \n",
       "3  https://image.tmdb.org/t/p/w500/qJU6rfil5xLVb5...  Forest Whitaker   \n",
       "4  https://image.tmdb.org/t/p/w500/95RHs76vX7NSyI...    Charles Shyer   \n",
       "\n",
       "                                              actors  \n",
       "0  Tom Hanks, Tim Allen, Don Rickles, Jim Varney,...  \n",
       "1  Robin Williams, Kirsten Dunst, Bradley Pierce,...  \n",
       "2  Walter Matthau, Jack Lemmon, Ann-Margret, Soph...  \n",
       "3  Whitney Houston, Angela Bassett, Loretta Devin...  \n",
       "4  Steve Martin, Diane Keaton, Martin Short, Kimb...  "
      ]
     },
     "execution_count": 24,
     "metadata": {},
     "output_type": "execute_result"
    }
   ],
   "source": [
    "df = pd.read_csv('../data/movies_enriched.csv', encoding='utf-8')\n",
    "df.drop(['description'], axis=1, inplace=True)\n",
    "df.head()"
   ]
  }
 ],
 "metadata": {
  "kernelspec": {
   "display_name": "Python 3",
   "language": "python",
   "name": "python3"
  },
  "language_info": {
   "codemirror_mode": {
    "name": "ipython",
    "version": 3
   },
   "file_extension": ".py",
   "mimetype": "text/x-python",
   "name": "python",
   "nbconvert_exporter": "python",
   "pygments_lexer": "ipython3",
   "version": "3.11.0"
  }
 },
 "nbformat": 4,
 "nbformat_minor": 2
}
